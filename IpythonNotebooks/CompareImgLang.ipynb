{
 "cells": [
  {
   "cell_type": "code",
   "execution_count": 1,
   "id": "a78ea4e2",
   "metadata": {},
   "outputs": [],
   "source": [
    "import matplotlib.pyplot as plt"
   ]
  },
  {
   "cell_type": "code",
   "execution_count": 2,
   "id": "f1bca8c1",
   "metadata": {},
   "outputs": [],
   "source": [
    "## domainnet\n",
    "image = dict(\n",
    "    source = 86.38,\n",
    "    target = 57.45,\n",
    "    diff   = 28.93\n",
    ")\n",
    "\n",
    "text = dict(\n",
    "    source = 85.22,\n",
    "    target = 70.88,\n",
    "    diff   = 14.34\n",
    ")"
   ]
  },
  {
   "cell_type": "code",
   "execution_count": 6,
   "id": "3c984c57",
   "metadata": {},
   "outputs": [
    {
     "data": {
      "text/plain": [
       "(33.4915489696689, 16.827035907064072)"
      ]
     },
     "execution_count": 6,
     "metadata": {},
     "output_type": "execute_result"
    }
   ],
   "source": [
    "(image['source']-image['target'])/image['source']*100, (text['source']-text['target'])/text['source']*100"
   ]
  },
  {
   "cell_type": "code",
   "execution_count": null,
   "id": "67efd3e7",
   "metadata": {},
   "outputs": [],
   "source": [
    "## domainnet-image\n",
    "\n",
    "plt.figure(figsize=(2,3))\n",
    "# plt.bar(0,text['real'], color=\"#003f5c\")\n",
    "# plt.bar(1,text['clipart'], color=\"#ff7c43\")\n",
    "plt.bar(0, image['source'], width=1., color=\"#003f5c\")\n",
    "plt.bar(1.2,image['target'], width=1., color=\"#ff7c43\")\n",
    "\n",
    "plt.xticks([0,1.2],[\"Source\", \"Target\"], fontsize=14)\n",
    "\n",
    "ax = plt.gca()\n",
    "# Hide the right and top spines\n",
    "ax.spines['right'].set_visible(False)\n",
    "ax.spines['top'].set_visible(False)\n",
    "\n",
    "# Only show ticks on the left and bottom spines\n",
    "ax.yaxis.set_ticks_position('left')\n",
    "ax.xaxis.set_ticks_position('bottom')\n",
    "\n",
    "plt.ylim(50,90)\n",
    "\n",
    "plt.yticks([50,65,80], fontsize=16)\n",
    "\n",
    "plt.ylabel(\"Accuracy(%)\", fontsize=18)\n",
    "\n",
    "plt.savefig(\"dnet_image.pdf\", format=\"pdf\", bbox_inches=\"tight\")\n",
    "\n",
    "plt.show()"
   ]
  },
  {
   "cell_type": "code",
   "execution_count": null,
   "id": "6d61a8a3",
   "metadata": {},
   "outputs": [],
   "source": [
    "## domainnet-text\n",
    "\n",
    "plt.figure(figsize=(2,3))\n",
    "# plt.bar(0,text['real'], color=\"#003f5c\")\n",
    "# plt.bar(1,text['clipart'], color=\"#ff7c43\")\n",
    "plt.bar(0, text['source'], width=1., color=\"#003f5c\")\n",
    "plt.bar(1.2,text['target'], width=1., color=\"#ff7c43\")\n",
    "\n",
    "plt.xticks([0,1.2],[\"Source\", \"Target\"], fontsize=14)\n",
    "\n",
    "ax = plt.gca()\n",
    "# Hide the right and top spines\n",
    "ax.spines['right'].set_visible(False)\n",
    "ax.spines['top'].set_visible(False)\n",
    "\n",
    "# Only show ticks on the left and bottom spines\n",
    "ax.yaxis.set_ticks_position('left')\n",
    "ax.xaxis.set_ticks_position('bottom')\n",
    "\n",
    "plt.ylim(50,90)\n",
    "\n",
    "plt.yticks([50,65,80], fontsize=16)\n",
    "\n",
    "plt.ylabel(\"Accuracy(%)\", fontsize=18)\n",
    "\n",
    "plt.savefig(\"dnet_text.pdf\", format=\"pdf\", bbox_inches=\"tight\")\n",
    "\n",
    "plt.show()"
   ]
  },
  {
   "cell_type": "code",
   "execution_count": 7,
   "id": "ae1d993b",
   "metadata": {},
   "outputs": [],
   "source": [
    "## geonet\n",
    "image = dict(\n",
    "    source = 65.86,\n",
    "    target = 48.68,\n",
    "    diff   = 17.18\n",
    ")\n",
    "\n",
    "text = dict(\n",
    "    source = 85.69,\n",
    "    target = 75.29,\n",
    "    diff   = 10.4\n",
    ")"
   ]
  },
  {
   "cell_type": "code",
   "execution_count": 8,
   "id": "7051ef8b",
   "metadata": {},
   "outputs": [
    {
     "data": {
      "text/plain": [
       "(26.085636197995747, 12.136772085424195)"
      ]
     },
     "execution_count": 8,
     "metadata": {},
     "output_type": "execute_result"
    }
   ],
   "source": [
    "(image['source']-image['target'])/image['source']*100, (text['source']-text['target'])/text['source']*100"
   ]
  },
  {
   "cell_type": "code",
   "execution_count": null,
   "id": "1fb330b9",
   "metadata": {},
   "outputs": [],
   "source": []
  },
  {
   "cell_type": "code",
   "execution_count": null,
   "id": "2ba12fcd",
   "metadata": {},
   "outputs": [],
   "source": [
    "## geonet-image\n",
    "\n",
    "plt.figure(figsize=(2,3))\n",
    "# plt.bar(0,text['real'], color=\"#003f5c\")\n",
    "# plt.bar(1,text['clipart'], color=\"#ff7c43\")\n",
    "plt.bar(0, image['source'], width=1., color=\"#003f5c\")\n",
    "plt.bar(1.2,image['target'], width=1., color=\"#ff7c43\")\n",
    "\n",
    "plt.xticks([0,1.2],[\"Source\", \"Target\"], fontsize=14)\n",
    "\n",
    "ax = plt.gca()\n",
    "# Hide the right and top spines\n",
    "ax.spines['right'].set_visible(False)\n",
    "ax.spines['top'].set_visible(False)\n",
    "\n",
    "# Only show ticks on the left and bottom spines\n",
    "ax.yaxis.set_ticks_position('left')\n",
    "ax.xaxis.set_ticks_position('bottom')\n",
    "\n",
    "plt.ylim(45, 68)\n",
    "\n",
    "plt.yticks([50,57,64], fontsize=16)\n",
    "\n",
    "plt.ylabel(\"Accuracy(%)\", fontsize=18)\n",
    "\n",
    "plt.savefig(\"geonet_image.pdf\", format=\"pdf\", bbox_inches=\"tight\")\n",
    "\n",
    "plt.show()"
   ]
  },
  {
   "cell_type": "code",
   "execution_count": null,
   "id": "9f58437f",
   "metadata": {},
   "outputs": [],
   "source": [
    "## geonet-text\n",
    "\n",
    "plt.figure(figsize=(2,3))\n",
    "# plt.bar(0,text['real'], color=\"#003f5c\")\n",
    "# plt.bar(1,text['clipart'], color=\"#ff7c43\")\n",
    "plt.bar(0, text['source'], width=1., color=\"#003f5c\")\n",
    "plt.bar(1.2,text['target'], width=1., color=\"#ff7c43\")\n",
    "\n",
    "plt.xticks([0,1.2],[\"Source\", \"Target\"], fontsize=14)\n",
    "\n",
    "ax = plt.gca()\n",
    "# Hide the right and top spines\n",
    "ax.spines['right'].set_visible(False)\n",
    "ax.spines['top'].set_visible(False)\n",
    "\n",
    "# Only show ticks on the left and bottom spines\n",
    "ax.yaxis.set_ticks_position('left')\n",
    "ax.xaxis.set_ticks_position('bottom')\n",
    "\n",
    "plt.ylim(70, 86)\n",
    "\n",
    "plt.yticks([70, 77, 84], fontsize=16)\n",
    "\n",
    "plt.ylabel(\"Accuracy(%)\", fontsize=18)\n",
    "\n",
    "plt.savefig(\"geonet_text.pdf\", format=\"pdf\", bbox_inches=\"tight\")\n",
    "\n",
    "plt.show()"
   ]
  },
  {
   "cell_type": "code",
   "execution_count": null,
   "id": "68576eea",
   "metadata": {},
   "outputs": [],
   "source": [
    "## geonet-image\n",
    "\n",
    "plt.figure(figsize=(3,3))\n",
    "# plt.bar(0,text['real'], color=\"#003f5c\")\n",
    "# plt.bar(1,text['clipart'], color=\"#ff7c43\")\n",
    "\n",
    "# plt.bar(-0.2, image['source'], width=.3, color=\"#003f5c\")\n",
    "# plt.xticks([-0.2],[\"USA\"], fontsize=25)\n",
    "# plt.bar(1, 0)\n",
    "\n",
    "\n",
    "plt.bar(-0.2,image['target'], width=.3, color=\"#608a9c\")\n",
    "plt.xticks([-0.2],[\"Asia\"], fontsize=25)\n",
    "plt.bar(1, 0)\n",
    "\n",
    "\n",
    "\n",
    "\n",
    "ax = plt.gca()\n",
    "# Hide the right and top spines\n",
    "ax.spines['right'].set_visible(False)\n",
    "ax.spines['top'].set_visible(False)\n",
    "\n",
    "# Only show ticks on the left and bottom spines\n",
    "ax.yaxis.set_ticks_position('left')\n",
    "ax.xaxis.set_ticks_position('bottom')\n",
    "\n",
    "plt.ylim(45, 68)\n",
    "plt.xlim(-.4,.7)\n",
    "\n",
    "plt.yticks([50,57,64], fontsize=26)\n",
    "\n",
    "# plt.savefig(\"geonet_image.png\")\n",
    "\n",
    "plt.ylabel(\"Accuracy(%)\", fontsize=25)\n",
    "\n",
    "plt.show()"
   ]
  },
  {
   "cell_type": "code",
   "execution_count": 25,
   "id": "ee0fff49",
   "metadata": {},
   "outputs": [
    {
     "data": {
      "image/png": "[encoded data removed]",
      "text/plain": [
       "<Figure size 300x300 with 1 Axes>"
      ]
     },
     "metadata": {},
     "output_type": "display_data"
    }
   ],
   "source": [
    "## clipart\n",
    "\n",
    "## geonet-image\n",
    "\n",
    "plt.figure(figsize=(3,3))\n",
    "# plt.bar(0,text['real'], color=\"#003f5c\")\n",
    "# plt.bar(1,text['clipart'], color=\"#ff7c43\")\n",
    "\n",
    "plt.bar(-.2, text['source'], width=.3, color=\"#703e28\")\n",
    "plt.xticks([-.2],[\"USA\"], fontsize=25)\n",
    "plt.bar(1, 0)\n",
    "\n",
    "\n",
    "# plt.bar(-.2,text['target'], width=.3, color=\"#c47d5e\")\n",
    "# plt.xticks([-.2],[\"Asia\"], fontsize=25)\n",
    "# plt.bar(1, 0)\n",
    "\n",
    "\n",
    "ax = plt.gca()\n",
    "# Hide the right and top spines\n",
    "ax.spines['right'].set_visible(False)\n",
    "ax.spines['top'].set_visible(False)\n",
    "\n",
    "# Only show ticks on the left and bottom spines\n",
    "ax.yaxis.set_ticks_position('left')\n",
    "ax.xaxis.set_ticks_position('bottom')\n",
    "\n",
    "plt.ylim(70, 86)\n",
    "plt.xlim(-.4,.7)\n",
    "\n",
    "plt.yticks([70, 77, 84], fontsize=26)\n",
    "\n",
    "# plt.savefig(\"geonet_image.png\")\n",
    "\n",
    "plt.ylabel(\"Accuracy(%)\", fontsize=25)\n",
    "\n",
    "plt.show()"
   ]
  },
  {
   "cell_type": "code",
   "execution_count": null,
   "id": "77c16110",
   "metadata": {},
   "outputs": [],
   "source": [
    "## ego-exoDA\n",
    "image = dict(\n",
    "    source = 35.86,\n",
    "    target = 11.28,\n",
    "    diff   = 24.58\n",
    ")\n",
    "\n",
    "text = dict(\n",
    "    source = 60.65,\n",
    "    target = 53.45,\n",
    "    diff   = 7.2\n",
    ")"
   ]
  },
  {
   "cell_type": "code",
   "execution_count": null,
   "id": "0ca038f4",
   "metadata": {},
   "outputs": [],
   "source": [
    "## geonet-image\n",
    "\n",
    "plt.figure(figsize=(2,3))\n",
    "# plt.bar(0,text['real'], color=\"#003f5c\")\n",
    "# plt.bar(1,text['clipart'], color=\"#ff7c43\")\n",
    "plt.bar(0, image['source'], width=1., color=\"#003f5c\")\n",
    "plt.bar(1.2,image['target'], width=1., color=\"#ff7c43\")\n",
    "\n",
    "plt.xticks([0,1.2],[\"Ego\", \"Exo\"], fontsize=14)\n",
    "\n",
    "ax = plt.gca()\n",
    "# Hide the right and top spines\n",
    "ax.spines['right'].set_visible(False)\n",
    "ax.spines['top'].set_visible(False)\n",
    "\n",
    "# Only show ticks on the left and bottom spines\n",
    "ax.yaxis.set_ticks_position('left')\n",
    "ax.xaxis.set_ticks_position('bottom')\n",
    "\n",
    "plt.ylim(8, 38)\n",
    "\n",
    "plt.yticks([10, 20, 30], fontsize=16)\n",
    "\n",
    "plt.ylabel(\"Accuracy(%)\", fontsize=18)\n",
    "\n",
    "plt.savefig(\"egoexo_image.pdf\", format=\"pdf\", bbox_inches=\"tight\")\n",
    "\n",
    "\n",
    "\n",
    "plt.show()"
   ]
  },
  {
   "cell_type": "code",
   "execution_count": null,
   "id": "63f30d69",
   "metadata": {},
   "outputs": [],
   "source": [
    "## geonet-image\n",
    "\n",
    "plt.figure(figsize=(2,3))\n",
    "# plt.bar(0,text['real'], color=\"#003f5c\")\n",
    "# plt.bar(1,text['clipart'], color=\"#ff7c43\")\n",
    "plt.bar(0, text['source'], width=1., color=\"#003f5c\")\n",
    "plt.bar(1.2,text['target'], width=1., color=\"#ff7c43\")\n",
    "\n",
    "plt.xticks([0,1.2],[\"Ego\", \"Exo\"], fontsize=14)\n",
    "\n",
    "ax = plt.gca()\n",
    "# Hide the right and top spines\n",
    "ax.spines['right'].set_visible(False)\n",
    "ax.spines['top'].set_visible(False)\n",
    "\n",
    "# Only show ticks on the left and bottom spines\n",
    "ax.yaxis.set_ticks_position('left')\n",
    "ax.xaxis.set_ticks_position('bottom')\n",
    "\n",
    "plt.ylim(50, 62)\n",
    "\n",
    "plt.yticks([50, 55, 60], fontsize=16)\n",
    "\n",
    "plt.ylabel(\"Accuracy(%)\", fontsize=18)\n",
    "\n",
    "plt.savefig(\"egoexo_text.pdf\", format=\"pdf\", bbox_inches=\"tight\")\n",
    "\n",
    "\n",
    "\n",
    "\n",
    "plt.show()"
   ]
  },
  {
   "cell_type": "code",
   "execution_count": null,
   "id": "9a8594db",
   "metadata": {},
   "outputs": [],
   "source": []
  },
  {
   "cell_type": "code",
   "execution_count": 41,
   "id": "ae24fa44",
   "metadata": {},
   "outputs": [],
   "source": [
    "tags = [\"Source\", \"Best UDA\", \"VideoCLIP\", \"EmbedMatch\", \"Ours\"]\n",
    "values = [46.53, 50.22, 50.36, 51.92, 60.62]\n",
    "values = [60.38, 69.63, 70.38, 70.14, 73.26]\n",
    "values = [17.01, 21.78, 14.16, 15.02, 24.73]"
   ]
  },
  {
   "cell_type": "code",
   "execution_count": 43,
   "id": "641512b6",
   "metadata": {},
   "outputs": [
    {
     "data": {
      "image/png": "[encoded data removed]",
      "text/plain": [
       "<Figure size 1200x800 with 1 Axes>"
      ]
     },
     "metadata": {},
     "output_type": "display_data"
    }
   ],
   "source": [
    "plt.figure(figsize=(12,8))\n",
    "\n",
    "plt.bar(range(len(tags)-1), values[:-1])\n",
    "plt.bar(len(tags)-1, values[-1])\n",
    "\n",
    "\n",
    "# plt.ylim(, 62)\n",
    "# plt.yticks([45,50,55,60], [45,50,55,60], fontsize=22)\n",
    "\n",
    "plt.ylim(12,24)\n",
    "plt.yticks([12,16,20,24], [12,16,20,24], fontsize=22)\n",
    "\n",
    "plt.xticks(range(len(tags)), tags, fontsize=18);\n",
    "\n",
    "ax = plt.gca()\n",
    "\n",
    "# Hide the right and top spines\n",
    "ax.spines['right'].set_visible(False)\n",
    "ax.spines['top'].set_visible(False)\n",
    "\n",
    "# Only show ticks on the left and bottom spines\n",
    "ax.yaxis.set_ticks_position('left')\n",
    "ax.xaxis.set_ticks_position('bottom')\n",
    "\n",
    "plt.grid(axis='y', color='lightgrey', linestyle='-', linewidth=0.5)\n",
    "\n",
    "plt.ylabel('Accuracy of Target (%)', fontsize=20)\n",
    "\n",
    "\n",
    "plt.show();"
   ]
  },
  {
   "cell_type": "markdown",
   "id": "1582f956",
   "metadata": {},
   "source": [
    "## GeoNet domain wise"
   ]
  },
  {
   "cell_type": "code",
   "execution_count": 3,
   "id": "7e62ca7f",
   "metadata": {},
   "outputs": [],
   "source": [
    "def drop(source, target):\n",
    "    return source - target"
   ]
  },
  {
   "cell_type": "code",
   "execution_count": 5,
   "id": "945b6802",
   "metadata": {},
   "outputs": [
    {
     "name": "stdout",
     "output_type": "stream",
     "text": [
      "Image:20.019999999999996, Text:6.700000000000003\n"
     ]
    }
   ],
   "source": [
    "## domainnet\n",
    "\n",
    "## geoplaces - asia - usa\n",
    "image = dict(\n",
    "    source = 56.87,\n",
    "    target = 36.85,\n",
    ")\n",
    "\n",
    "text = dict(\n",
    "    source = 79.98,\n",
    "    target = 73.28,\n",
    ")\n",
    "\n",
    "image_diff = drop(image['source'], image['target'])\n",
    "text_diff = drop(text['source'], text['target'])\n",
    "\n",
    "print(\"Image:{}, Text:{}\".format(image_diff, text_diff) )"
   ]
  },
  {
   "cell_type": "code",
   "execution_count": 6,
   "id": "e8e82834",
   "metadata": {},
   "outputs": [
    {
     "name": "stdout",
     "output_type": "stream",
     "text": [
      "Image:13.43, Text:8.679999999999993\n"
     ]
    }
   ],
   "source": [
    "## geoplaces - usa - asia\n",
    "image = dict(\n",
    "    source = 58.33,\n",
    "    target = 44.9,\n",
    ")\n",
    "\n",
    "text = dict(\n",
    "    source = 89.16,\n",
    "    target = 80.48,\n",
    ")\n",
    "\n",
    "image_diff = drop(image['source'], image['target'])\n",
    "text_diff = drop(text['source'], text['target'])\n",
    "\n",
    "print(\"Image:{}, Text:{}\".format(image_diff, text_diff) )"
   ]
  },
  {
   "cell_type": "code",
   "execution_count": 7,
   "id": "2a207f2a",
   "metadata": {},
   "outputs": [
    {
     "name": "stdout",
     "output_type": "stream",
     "text": [
      "Image:11.550000000000004, Text:6.069999999999993\n"
     ]
    }
   ],
   "source": [
    "## geoimnet - asia - usa\n",
    "image = dict(\n",
    "    source = 63.46,\n",
    "    target = 51.91\n",
    ")\n",
    "\n",
    "text = dict(\n",
    "    source = 94.38,\n",
    "    target = 88.31,\n",
    ")\n",
    "\n",
    "image_diff = drop(image['source'], image['target'])\n",
    "text_diff = drop(text['source'], text['target'])\n",
    "\n",
    "print(\"Image:{}, Text:{}\".format(image_diff, text_diff) )"
   ]
  },
  {
   "cell_type": "code",
   "execution_count": 8,
   "id": "c1c50681",
   "metadata": {},
   "outputs": [
    {
     "name": "stdout",
     "output_type": "stream",
     "text": [
      "Image:11.36, Text:3.8999999999999915\n"
     ]
    }
   ],
   "source": [
    "## geoimnet - usa - asia\n",
    "image = dict(\n",
    "    source = 63.82,\n",
    "    target = 52.46\n",
    ")\n",
    "\n",
    "text = dict(\n",
    "    source = 94.88,\n",
    "    target = 90.98,\n",
    ")\n",
    "\n",
    "image_diff = drop(image['source'], image['target'])\n",
    "text_diff = drop(text['source'], text['target'])\n",
    "\n",
    "print(\"Image:{}, Text:{}\".format(image_diff, text_diff) )"
   ]
  },
  {
   "cell_type": "code",
   "execution_count": 9,
   "id": "490801c7",
   "metadata": {},
   "outputs": [
    {
     "name": "stdout",
     "output_type": "stream",
     "text": [
      "14.085\n"
     ]
    }
   ],
   "source": [
    "image = (20+13.43+11.55+11.36)/4\n",
    "print(image)"
   ]
  },
  {
   "cell_type": "code",
   "execution_count": 10,
   "id": "04509ff3",
   "metadata": {},
   "outputs": [
    {
     "name": "stdout",
     "output_type": "stream",
     "text": [
      "6.33\n"
     ]
    }
   ],
   "source": [
    "text = (6.7+8.67+6.06+3.89)/4\n",
    "print(text)"
   ]
  },
  {
   "cell_type": "code",
   "execution_count": null,
   "id": "cb3d3b97",
   "metadata": {},
   "outputs": [],
   "source": []
  }
 ],
 "metadata": {
  "kernelspec": {
   "display_name": "Python 3 (ipykernel)",
   "language": "python",
   "name": "python3"
  },
  "language_info": {
   "codemirror_mode": {
    "name": "ipython",
    "version": 3
   },
   "file_extension": ".py",
   "mimetype": "text/x-python",
   "name": "python",
   "nbconvert_exporter": "python",
   "pygments_lexer": "ipython3",
   "version": "3.9.16"
  }
 },
 "nbformat": 4,
 "nbformat_minor": 5
}
