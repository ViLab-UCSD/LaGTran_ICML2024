{
 "cells": [
  {
   "cell_type": "code",
   "execution_count": 23,
   "id": "38bff5d6",
   "metadata": {},
   "outputs": [],
   "source": [
    "import matplotlib.pyplot as plt\n",
    "import numpy as np"
   ]
  },
  {
   "cell_type": "code",
   "execution_count": 42,
   "id": "e9f772b1",
   "metadata": {},
   "outputs": [
    {
     "ename": "AttributeError",
     "evalue": "'Axes' object has no attribute 'xticks'",
     "output_type": "error",
     "traceback": [
      "\u001b[0;31m---------------------------------------------------------------------------\u001b[0m",
      "\u001b[0;31mAttributeError\u001b[0m                            Traceback (most recent call last)",
      "Cell \u001b[0;32mIn[42], line 35\u001b[0m\n\u001b[1;32m     33\u001b[0m axes\u001b[38;5;241m.\u001b[39mset_title(\u001b[38;5;124m'\u001b[39m\u001b[38;5;124mGeoI-UA\u001b[39m\u001b[38;5;124m'\u001b[39m)\n\u001b[1;32m     34\u001b[0m axes\u001b[38;5;241m.\u001b[39mset_ylim(\u001b[38;5;241m30\u001b[39m,\u001b[38;5;241m62\u001b[39m)\n\u001b[0;32m---> 35\u001b[0m \u001b[43maxes\u001b[49m\u001b[38;5;241;43m.\u001b[39;49m\u001b[43mxticks\u001b[49m(fontsize\u001b[38;5;241m=\u001b[39m\u001b[38;5;241m20\u001b[39m)\n\u001b[1;32m     37\u001b[0m \u001b[38;5;66;03m# # Subplot 1\u001b[39;00m\n\u001b[1;32m     38\u001b[0m \u001b[38;5;66;03m# shade_last_bar(axes[0, 0], data1, 'b')\u001b[39;00m\n\u001b[1;32m     39\u001b[0m \u001b[38;5;66;03m# axes[0, 0].set_title('GeoI-UA')\u001b[39;00m\n\u001b[0;32m   (...)\u001b[0m\n\u001b[1;32m     56\u001b[0m \n\u001b[1;32m     57\u001b[0m \u001b[38;5;66;03m# Adjust spacing between subplots\u001b[39;00m\n\u001b[1;32m     58\u001b[0m plt\u001b[38;5;241m.\u001b[39mtight_layout()\n",
      "\u001b[0;31mAttributeError\u001b[0m: 'Axes' object has no attribute 'xticks'"
     ]
    },
    {
     "data": {
      "image/png": "[encoded data removed]",
      "text/plain": [
       "<Figure size 1200x600 with 1 Axes>"
      ]
     },
     "metadata": {},
     "output_type": "display_data"
    }
   ],
   "source": [
    "# Sample data for the bar charts\n",
    "\n",
    "# data1 = np.array([36.98, 36.71, 45.80, 60.37])\n",
    "# data2 = np.array([40.43, 40.34, 46.41, 56.35])\n",
    "# data3 = np.array([36.27, 34.68, 42.70, 49.63])\n",
    "# data4 = np.array([21.03, 15.75, 30.50, 56.35])\n",
    "\n",
    "\n",
    "# categories = [\"Plain\", \"MemSAC\", \"MemSAC w/LLM\", \"Target Sup.\"]\n",
    "# # categories = [\"Plain\", \"MemSAC\", \",\", \"Target Sup.\"]\n",
    "\n",
    "data1 = np.array([36.98, 45.80, 48.54, 60.37])\n",
    "# data2 = np.array([40.43, 46.41, 56.35])\n",
    "# data3 = np.array([36.27, 42.70, 49.63])\n",
    "# data4 = np.array([21.03, 30.50, 56.35])\n",
    "\n",
    "\n",
    "categories = [\"Plain\", \"MemSAC w/LLM\", \"Training w/PL\", \"Target Sup.\"]\n",
    "# categories = [\"Plain\", \"MemSAC\", \",\", \"Target Sup.\"]\n",
    "\n",
    "# Create a 2x2 grid of subplots\n",
    "fig, axes = plt.subplots(1,1, figsize=(12,6))\n",
    "\n",
    "# Function to shade the last bar in dark gray\n",
    "def shade_last_bar(ax, data, color):\n",
    "    bars = ax.bar(categories, data, color=color, width=0.3, edgecolor='lightgray')\n",
    "    bars[-1].set_facecolor('lightgray')\n",
    "#     ax.set_xlim(-1,4)\n",
    "#     ax.set_xlabel('Categories')\n",
    "    ax.set_ylabel('Accuracy')\n",
    "    \n",
    "shade_last_bar(axes, data1, 'b')\n",
    "axes.set_title('GeoI-UA')\n",
    "axes.set_ylim(30,62)\n",
    "\n",
    "# # Subplot 1\n",
    "# shade_last_bar(axes[0, 0], data1, 'b')\n",
    "# axes[0, 0].set_title('GeoI-UA')\n",
    "# axes[0, 0].set_ylim(30,62)\n",
    "\n",
    "# # Subplot 2\n",
    "# shade_last_bar(axes[0, 1], data2, 'g')\n",
    "# axes[0, 1].set_title('GeoI-AU')\n",
    "# axes[0, 1].set_ylim(30,55)\n",
    "\n",
    "# # Subplot 3\n",
    "# shade_last_bar(axes[1, 0], data3, 'r')\n",
    "# axes[1, 0].set_title('GeoP-UA')\n",
    "# axes[1, 0].set_ylim(30,55)\n",
    "\n",
    "# # Subplot 4\n",
    "# shade_last_bar(axes[1, 1], data4, 'y')\n",
    "# axes[1, 1].set_title('GeoP-AU')\n",
    "# axes[1, 1].set_ylim(10, 60)\n",
    "\n",
    "# Adjust spacing between subplots\n",
    "plt.tight_layout()\n",
    "\n",
    "# Display the plot\n",
    "plt.show()\n"
   ]
  },
  {
   "cell_type": "code",
   "execution_count": null,
   "id": "0c71ee17",
   "metadata": {},
   "outputs": [],
   "source": []
  },
  {
   "cell_type": "code",
   "execution_count": null,
   "id": "81bca7df",
   "metadata": {},
   "outputs": [],
   "source": []
  },
  {
   "cell_type": "code",
   "execution_count": null,
   "id": "d0568ac2",
   "metadata": {},
   "outputs": [],
   "source": []
  }
 ],
 "metadata": {
  "kernelspec": {
   "display_name": "Python 3 (ipykernel)",
   "language": "python",
   "name": "python3"
  },
  "language_info": {
   "codemirror_mode": {
    "name": "ipython",
    "version": 3
   },
   "file_extension": ".py",
   "mimetype": "text/x-python",
   "name": "python",
   "nbconvert_exporter": "python",
   "pygments_lexer": "ipython3",
   "version": "3.9.16"
  }
 },
 "nbformat": 4,
 "nbformat_minor": 5
}
