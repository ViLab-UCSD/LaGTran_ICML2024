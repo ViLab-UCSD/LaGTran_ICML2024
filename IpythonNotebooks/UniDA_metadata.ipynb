{
 "cells": [
  {
   "cell_type": "code",
   "execution_count": 1,
   "id": "e662960e",
   "metadata": {},
   "outputs": [],
   "source": [
    "import json"
   ]
  },
  {
   "cell_type": "code",
   "execution_count": 2,
   "id": "86b07bcf",
   "metadata": {},
   "outputs": [],
   "source": [
    "unida = json.load(open(\"/home/tarun/metadata/geoUniDA_metadata.json\"))"
   ]
  },
  {
   "cell_type": "code",
   "execution_count": 3,
   "id": "186e814b",
   "metadata": {},
   "outputs": [
    {
     "data": {
      "text/plain": [
       "dict_keys(['usa', 'asia'])"
      ]
     },
     "execution_count": 3,
     "metadata": {},
     "output_type": "execute_result"
    }
   ],
   "source": [
    "unida.keys()"
   ]
  },
  {
   "cell_type": "code",
   "execution_count": 4,
   "id": "6fc55b70",
   "metadata": {},
   "outputs": [
    {
     "data": {
      "text/plain": [
       "dict_keys(['images', 'annotations', 'locations', 'metadata'])"
      ]
     },
     "execution_count": 4,
     "metadata": {},
     "output_type": "execute_result"
    }
   ],
   "source": [
    "unida['usa'].keys()"
   ]
  },
  {
   "cell_type": "code",
   "execution_count": 5,
   "id": "9ea656ad",
   "metadata": {},
   "outputs": [
    {
     "data": {
      "text/plain": [
       "dict_keys(['images', 'annotations', 'locations', 'metadata'])"
      ]
     },
     "execution_count": 5,
     "metadata": {},
     "output_type": "execute_result"
    }
   ],
   "source": [
    "unida['asia'].keys()"
   ]
  },
  {
   "cell_type": "code",
   "execution_count": 14,
   "id": "cd80d65d",
   "metadata": {},
   "outputs": [
    {
     "name": "stdout",
     "output_type": "stream",
     "text": [
      "{'filename': 'asia/train/cardigan/2188689602.jpg', 'id': 2188689602, 'url': 'https://farm3.staticflickr.com/2173/2188689602_cee123d984_z.jpg?zz=1'}\n",
      "\n",
      "{'image_id': 2188689602, 'class_name': 'cardigan', 'wnid': 'n02113186', 'category': 217}\n",
      "\n",
      "{'image_id': 2188689602, 'latitude': 22.325861, 'longitude': 114.203567}\n",
      "\n",
      "{'image_id': 2188689602, 'datetaken': '2008-01-12 16:57:22', 'caption': '_IGP1832', 'description': '0', 'tags': 'pembroke hongkong corgi pentax welsh yoshi cardigans 哥基 k10d httphkmyblogyahoocomyoshihome 潘布魯克威爾斯哥基 panfork 英女皇伊麗莎白二世', 'url': 'https://farm3.staticflickr.com/2173/2188689602_cee123d984_z.jpg?zz=1'}\n",
      "\n"
     ]
    }
   ],
   "source": [
    "for ks in unida['asia'].keys():\n",
    "    print(unida['asia'][ks][1000])\n",
    "    print()"
   ]
  },
  {
   "cell_type": "code",
   "execution_count": 12,
   "id": "739144fd",
   "metadata": {},
   "outputs": [
    {
     "data": {
      "text/plain": [
       "100136"
      ]
     },
     "execution_count": 12,
     "metadata": {},
     "output_type": "execute_result"
    }
   ],
   "source": [
    "len(unida['usa']['images'])"
   ]
  },
  {
   "cell_type": "code",
   "execution_count": 15,
   "id": "7abd0a11",
   "metadata": {},
   "outputs": [
    {
     "data": {
      "text/plain": [
       "33912"
      ]
     },
     "execution_count": 15,
     "metadata": {},
     "output_type": "execute_result"
    }
   ],
   "source": [
    "len(unida['asia']['images'])"
   ]
  },
  {
   "cell_type": "code",
   "execution_count": null,
   "id": "5b9bf56f",
   "metadata": {},
   "outputs": [],
   "source": []
  }
 ],
 "metadata": {
  "kernelspec": {
   "display_name": "Python 3 (ipykernel)",
   "language": "python",
   "name": "python3"
  },
  "language_info": {
   "codemirror_mode": {
    "name": "ipython",
    "version": 3
   },
   "file_extension": ".py",
   "mimetype": "text/x-python",
   "name": "python",
   "nbconvert_exporter": "python",
   "pygments_lexer": "ipython3",
   "version": "3.9.16"
  }
 },
 "nbformat": 4,
 "nbformat_minor": 5
}
