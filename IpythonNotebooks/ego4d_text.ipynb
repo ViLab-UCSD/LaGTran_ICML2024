{
 "cells": [
  {
   "cell_type": "code",
   "execution_count": 1,
   "id": "0c958926",
   "metadata": {},
   "outputs": [],
   "source": [
    "import pandas as pd\n",
    "from sentence_transformers import SentenceTransformer, util\n",
    "import json\n",
    "import torch\n",
    "import numpy as np\n",
    "import random\n",
    "from tqdm.notebook import tqdm\n",
    "# import os\n",
    "import inflect\n",
    "%config Completer.use_jedi = False"
   ]
  },
  {
   "cell_type": "code",
   "execution_count": 2,
   "id": "9d95a56a",
   "metadata": {},
   "outputs": [],
   "source": [
    "def get_accuracy(caption_embeddings, class_embeddings, gt_label, topk=5):\n",
    "    similarity_matrix = util.cos_sim(caption_embeddings, class_embeddings)\n",
    "    pseudoLabel = similarity_matrix.topk(topk, 1).indices    \n",
    "    gt_label = torch.Tensor(gt_label).view(-1,1).repeat(1,topk)\n",
    "    matched_labels = (torch.Tensor(pseudoLabel) == torch.Tensor(gt_label))\n",
    "    top1_acc = matched_labels[:,0].sum()/len(gt_label)\n",
    "    topk_acc = matched_labels.any(1).sum()/len(gt_label)\n",
    "    return top1_acc, topk_acc, similarity_matrix.argmax(1)"
   ]
  },
  {
   "cell_type": "code",
   "execution_count": 3,
   "id": "fd22655e",
   "metadata": {},
   "outputs": [],
   "source": [
    "model = SentenceTransformer('multi-qa-MiniLM-L6-cos-v1').cuda()"
   ]
  },
  {
   "cell_type": "code",
   "execution_count": 6,
   "id": "83d80f05",
   "metadata": {},
   "outputs": [],
   "source": [
    "# source = pd.read_csv('../data/ego4d/ego_train.txt', sep=\";\", header=None, names=['id','caption','category','label'])\n",
    "\n",
    "ego4d_json = json.load(open(\"../metadata/ego4d_cooking.json\"))['categories']\n",
    "\n",
    "label_to_idx = {c['category_name']:c['category_id'] for c in ego4d_json}\n",
    "idx_to_label = {v:k for k,v in label_to_idx.items()}"
   ]
  },
  {
   "cell_type": "code",
   "execution_count": 8,
   "id": "b6ba5157",
   "metadata": {},
   "outputs": [],
   "source": [
    "# label_to_idx = dict(zip(source.category, source.label))\n",
    "# idx_to_label = dict(zip(source.label, source.category))\n",
    "\n",
    "labels = [idx_to_label[idx] for idx in idx_to_label ]\n",
    "\n",
    "class_embeddings = model.encode(labels)"
   ]
  },
  {
   "cell_type": "code",
   "execution_count": 9,
   "id": "358f079d",
   "metadata": {},
   "outputs": [
    {
     "ename": "ValueError",
     "evalue": "Single '}' encountered in format string",
     "output_type": "error",
     "traceback": [
      "\u001b[0;31m---------------------------------------------------------------------------\u001b[0m",
      "\u001b[0;31mValueError\u001b[0m                                Traceback (most recent call last)",
      "Cell \u001b[0;32mIn[9], line 2\u001b[0m\n\u001b[1;32m      1\u001b[0m \u001b[38;5;28;01mfor\u001b[39;00m l \u001b[38;5;129;01min\u001b[39;00m labels:\n\u001b[0;32m----> 2\u001b[0m     \u001b[38;5;28mprint\u001b[39m(\u001b[38;5;124;43m\"\u001b[39;49m\u001b[38;5;124;43m\\\u001b[39;49m\u001b[38;5;124;43mitem \u001b[39;49m\u001b[38;5;130;43;01m\\\\\u001b[39;49;00m\u001b[38;5;124;43mtextit\u001b[39;49m\u001b[38;5;124;43m\\\u001b[39;49m\u001b[38;5;124;43m{{\u001b[39;49m\u001b[38;5;124;43m}\u001b[39;49m\u001b[38;5;124;43m\\\u001b[39;49m\u001b[38;5;124;43m}\u001b[39;49m\u001b[38;5;124;43m\"\u001b[39;49m\u001b[38;5;241;43m.\u001b[39;49m\u001b[43mformat\u001b[49m\u001b[43m(\u001b[49m\u001b[43ml\u001b[49m\u001b[43m)\u001b[49m)\n",
      "\u001b[0;31mValueError\u001b[0m: Single '}' encountered in format string"
     ]
    }
   ],
   "source": [
    "for l in labels:\n",
    "    print(\"\\item \\\\textit\\{{}\\}\".format(l))"
   ]
  },
  {
   "cell_type": "markdown",
   "id": "a23c700f",
   "metadata": {},
   "source": [
    "## embedding match"
   ]
  },
  {
   "cell_type": "code",
   "execution_count": 11,
   "id": "af957f62",
   "metadata": {},
   "outputs": [
    {
     "name": "stdout",
     "output_type": "stream",
     "text": [
      "ego:18.05/53.66\n",
      "exo:18.85/53.25\n"
     ]
    }
   ],
   "source": [
    "for source, domain in zip([\"exo\",\"ego\"],[\"ego\", \"exo\"]):\n",
    "    data = pd.read_csv('../data/ego4d/{}_train.txt'.format(domain), sep=\";\", header=None, names=['id','caption','category','label'])\n",
    "\n",
    "    ## embedding match\n",
    "    captions = data.caption.values\n",
    "    labels = data.label.values\n",
    "    segids = data.id.values\n",
    "\n",
    "    caption_embeddings = model.encode(captions)\n",
    "    \n",
    "    top1, top5, pseudo = get_accuracy(caption_embeddings, class_embeddings, labels)\n",
    "    \n",
    "    print(\"{}:{:.2f}/{:.2f}\".format(domain, top1*100, top5*100))\n",
    "    \n",
    "    with open(\"../hard_labels/ego4d_cooking_{}_{}_embedMatchPL.txt\".format(source, domain), \"w\") as fh:\n",
    "        write_str = \"\"\n",
    "        for fid, pl in zip(segids, pseudo):\n",
    "            write_str += \"{} {}\\n\".format(fid, pl)\n",
    "        fh.write(write_str)"
   ]
  },
  {
   "cell_type": "markdown",
   "id": "214e84b0",
   "metadata": {},
   "source": [
    "## ngram match"
   ]
  },
  {
   "cell_type": "code",
   "execution_count": 12,
   "id": "e262403a",
   "metadata": {},
   "outputs": [],
   "source": [
    "from nltk.util import ngrams\n",
    "from itertools import chain\n",
    "\n",
    "def generate_ngrams(text, n, sep=\" \"):\n",
    "    \"\"\"\n",
    "    Function to generate all ngrams for a given 'n' from a string.\n",
    "\n",
    "    :param text: The input string from which to generate ngrams.\n",
    "    :param n: The size of the ngram.\n",
    "    :return: A list of ngrams as strings.\n",
    "    \"\"\"\n",
    "    if isinstance(n, list):\n",
    "        ngram_list = []\n",
    "        for ni in n:\n",
    "            ngram_list += generate_ngrams(text, ni, sep)\n",
    "        return ngram_list\n",
    "    # Split the text into words\n",
    "    words = text.split(sep)\n",
    "\n",
    "    # Generate ngrams\n",
    "    ngram_list = [' '.join(gram) for gram in ngrams(words, n)]\n",
    "\n",
    "    return ngram_list\n",
    "\n",
    "def preprocess(text):\n",
    "\n",
    "    ngram_tags = generate_ngrams(text, [1,2,3])\n",
    "#     ngram_tags = tags\n",
    "    \n",
    "    all_ngrams = ngram_tags\n",
    "    return list(set(all_ngrams))\n",
    "\n",
    "def get_accuracy(similarity_matrix, gt_label, topk=5):\n",
    "    pseudoLabel = similarity_matrix.topk(topk, 1).indices  \n",
    "    gt_label = torch.Tensor(gt_label).view(-1,1).repeat(1,topk)\n",
    "    matched_labels = (torch.Tensor(pseudoLabel) == torch.Tensor(gt_label))\n",
    "    top1_acc = matched_labels[:,0].sum()/len(gt_label)\n",
    "    topk_acc = matched_labels.any(1).sum()/len(gt_label)\n",
    "    return top1_acc, topk_acc"
   ]
  },
  {
   "cell_type": "code",
   "execution_count": 13,
   "id": "fb27516d",
   "metadata": {},
   "outputs": [
    {
     "name": "stdout",
     "output_type": "stream",
     "text": [
      "ego:0.19487804174423218\n",
      "exo:0.20136381685733795\n"
     ]
    }
   ],
   "source": [
    "for source, did in zip([\"exo\",\"ego\"],[\"ego\", \"exo\"]):\n",
    "    \n",
    "    data = pd.read_csv('../data/ego4d/{}_train.txt'.format(did), sep=\";\", header=None, names=['id','caption','category','label'])\n",
    "\n",
    "    narrations = data.caption.values\n",
    "    labels = data.label.values\n",
    "    segids = data.id.values\n",
    "    \n",
    "    all_tags = [preprocess(n) for n in narrations]\n",
    "    tag_lens = [len(t) for t in all_tags]\n",
    "\n",
    "    MAX_TAG_LEN=500#max(tag_lens)\n",
    "\n",
    "    padded_tags = []\n",
    "    mask = []\n",
    "    for p in all_tags:\n",
    "        pad_len = max(0, MAX_TAG_LEN-len(p))\n",
    "        padded_tags.append(p[:MAX_TAG_LEN] + ['EOS']*pad_len)\n",
    "        mask.append([1]*min(MAX_TAG_LEN, len(p)) + [0]*pad_len)\n",
    "    mask = torch.Tensor(mask)\n",
    "\n",
    "    flattened_tags = list(chain.from_iterable(padded_tags))\n",
    "\n",
    "    tag_embedding = model.encode(flattened_tags, batch_size=256)\n",
    "\n",
    "    similarity = util.cos_sim(tag_embedding, class_embeddings)\n",
    "\n",
    "    similarity_reshaped = similarity.reshape(*mask.shape, -1)\n",
    "\n",
    "    mask = mask[...,None]\n",
    "\n",
    "    masked_similarity = similarity_reshaped * mask\n",
    "\n",
    "    pseudo_labels = masked_similarity.max(1).values\n",
    "    \n",
    "    top1, top5 = get_accuracy(pseudo_labels, labels)\n",
    "    \n",
    "    print(\"{}:{}\".format(did, top1))\n",
    "    \n",
    "    pseudo = pseudo_labels.argmax(1).cpu().numpy()\n",
    "    \n",
    "    write_str = \"\"\n",
    "    with open(\"../hard_labels/ego4d_cooking_{}_{}_tagMatchPL.txt\".format(source, did), \"w\") as fh:\n",
    "        write_str = \"\"\n",
    "        for fid, pl in zip(segids, pseudo):\n",
    "            write_str += \"{} {}\\n\".format(fid, pl)\n",
    "        fh.write(write_str)"
   ]
  },
  {
   "cell_type": "markdown",
   "id": "4312fb79",
   "metadata": {},
   "source": [
    "## kNN labeling"
   ]
  },
  {
   "cell_type": "code",
   "execution_count": null,
   "id": "8df84178",
   "metadata": {},
   "outputs": [],
   "source": [
    "def get_similarity_acc(source_embed, target_embed, source_label, target_label, within=False, topks=[1,5]):\n",
    "    \n",
    "    topk = max(topks)\n",
    "        \n",
    "    if within:\n",
    "        similarity_matrix = util.cos_sim(source_embed, source_embed)\n",
    "        mostSimilar = similarity_matrix.topk(topk+1, 1).indices\n",
    "        mostSimilar = mostSimilar[:,1:]\n",
    "    else:\n",
    "        similarity_matrix = util.cos_sim(source_embed, target_embed)\n",
    "        mostSimilar = similarity_matrix.topk(topk, 1).indices\n",
    "    \n",
    "    similarLabels = torch.Tensor(target_label)[mostSimilar.long().reshape(-1)].reshape(-1, topk)\n",
    "    source_label = torch.Tensor(source_label).view(-1,1).repeat(1,topk)\n",
    "    \n",
    "    matched_labels = (torch.Tensor(similarLabels) == torch.Tensor(source_label))\n",
    "                      \n",
    "    top1_acc = matched_labels[:,0].sum()/len(source_label)\n",
    "    topk_acc = matched_labels.any(1).sum()/len(source_label)\n",
    "        \n",
    "    return top1_acc, topk_acc\n",
    "\n",
    "def get_similarity_acc_knn(source_embed, target_embed, source_label, target_label, within=False, K=3):\n",
    "    \n",
    "    topk = K\n",
    "    \n",
    "    similarity_matrix = util.cos_sim(source_embed, target_embed)\n",
    "    mostSimilar = similarity_matrix.topk(topk, 1).indices\n",
    "    \n",
    "    similarLabels = torch.Tensor(target_label)[mostSimilar.long().reshape(-1)].reshape(-1, topk)\n",
    "    similarLabels = torch.mode(similarLabels, dim=-1, keepdim=True).values\n",
    "    source_label = torch.Tensor(source_label).view(-1,1)\n",
    "    \n",
    "    matched_labels = (torch.Tensor(similarLabels) == torch.Tensor(source_label))\n",
    "                      \n",
    "    top1_acc = matched_labels[:,0].sum()/len(source_label)\n",
    "#     topk_acc = matched_labels.any(1).sum()/len(source_label)\n",
    "        \n",
    "    return top1_acc, similarLabels.long()"
   ]
  },
  {
   "cell_type": "code",
   "execution_count": null,
   "id": "95d37b2d",
   "metadata": {},
   "outputs": [],
   "source": [
    "for source, target in zip([\"exo\",\"ego\"],[\"ego\", \"exo\"]):\n",
    "    source_data = pd.read_csv('../data/ego4d/{}_train.txt'.format(source), sep=\";\", header=None, names=['id','caption','category','label'])\n",
    "    source_captions = source_data.caption.values\n",
    "    source_labels = source_data.label.values\n",
    "    segids = source_data.id.values\n",
    "    source_embed = model.encode(source_captions)\n",
    "\n",
    "    target_data = pd.read_csv('../data/ego4d/{}_train.txt'.format(target), sep=\";\", header=None, names=['id','caption','category','label'])\n",
    "    target_captions = target_data.caption.values\n",
    "    target_labels = target_data.label.values\n",
    "    target_embed = model.encode(target_captions)\n",
    "    \n",
    "    top1, pseudo = get_similarity_acc_knn(source_embed, target_embed, source_labels, target_labels, K=3)\n",
    "    \n",
    "    print(\"{}->{}:{}\".format(source, target, top1))\n",
    "    \n",
    "    write_str = \"\"\n",
    "    with open(\"../soft_labels/ego4d_cooking_{}_{}_knnPL.txt\".format(target, source), \"w\") as fh:\n",
    "        write_str = \"\"\n",
    "        for fid, pl in zip(segids, pseudo):\n",
    "            write_str += \"{} {}\\n\".format(fid, pl.item())\n",
    "        fh.write(write_str)"
   ]
  },
  {
   "cell_type": "markdown",
   "id": "03ff7cb6",
   "metadata": {},
   "source": [
    "## Compute accuracy"
   ]
  },
  {
   "cell_type": "code",
   "execution_count": null,
   "id": "c4d12eb7",
   "metadata": {},
   "outputs": [],
   "source": [
    "def percls_accuracy(all_pred, all_label, num_class=22):\n",
    "    \"\"\"Computes per class accuracy\"\"\"\n",
    "    num_class = len(set(all_label)) if num_class == 0 else num_class\n",
    "    all_pred = np.asarray(all_pred)\n",
    "    all_label = np.asarray(all_label)\n",
    "\n",
    "    cls_acc = np.zeros([num_class])\n",
    "    for i in range(num_class):\n",
    "        idx = (all_label == i)\n",
    "        if idx.sum() > 0:\n",
    "            cls_acc[i] = (all_pred[idx] == all_label[idx]).mean() * 100.0\n",
    "\n",
    "    return cls_acc"
   ]
  },
  {
   "cell_type": "code",
   "execution_count": null,
   "id": "62669d11",
   "metadata": {},
   "outputs": [],
   "source": [
    "for source, target in zip([\"exo\",\"ego\"],[\"ego\", \"exo\"]):\n",
    "    for pseudo in [\"embedMatch\", \"tagMatch\", \"knn\", \"text\"]:\n",
    "        \n",
    "        gt_file = pd.read_csv('../data/ego4d/{}_train.txt'.format(target), sep=\";\", header=None, names=['id','caption','category','label'])\n",
    "        gt_id_to_label = dict(zip(gt_file.id.values, gt_file.label.values))\n",
    "\n",
    "        pl_file = pd.read_csv('../soft_labels/ego4d_cooking_{}_{}_{}PL.txt'.format(source, target, pseudo), sep=\" \", header=None, names=['id','label'])\n",
    "        pl_id_to_label = dict(zip(pl_file.id.values, pl_file.label.values))\n",
    "\n",
    "        all_ids = gt_id_to_label.keys()\n",
    "        labels = [gt_id_to_label[idx] for idx in all_ids]\n",
    "        preds = [pl_id_to_label[idx] for idx in all_ids]\n",
    "\n",
    "        print(\"{}:{}->{} = {}\".format(pseudo, source, target, percls_accuracy(preds, labels).mean()))\n",
    "    print()"
   ]
  },
  {
   "cell_type": "code",
   "execution_count": null,
   "id": "700043c9",
   "metadata": {},
   "outputs": [],
   "source": [
    "ego4d = json.load(open(\"../metadata/ego4d_cooking.json\"))"
   ]
  },
  {
   "cell_type": "code",
   "execution_count": null,
   "id": "4f73710a",
   "metadata": {},
   "outputs": [],
   "source": [
    "ego4d.keys()"
   ]
  },
  {
   "cell_type": "code",
   "execution_count": null,
   "id": "405fe9ce",
   "metadata": {},
   "outputs": [],
   "source": [
    "ego4d['categories']"
   ]
  },
  {
   "cell_type": "code",
   "execution_count": null,
   "id": "d0111de9",
   "metadata": {},
   "outputs": [],
   "source": [
    "ego4d['categories']"
   ]
  },
  {
   "cell_type": "code",
   "execution_count": null,
   "id": "ed0fa272",
   "metadata": {},
   "outputs": [],
   "source": [
    "ego4d['ego_train'].keys()"
   ]
  },
  {
   "cell_type": "code",
   "execution_count": null,
   "id": "3b137c3a",
   "metadata": {},
   "outputs": [],
   "source": [
    "ego4d['ego_val']['clips'][0]"
   ]
  },
  {
   "cell_type": "code",
   "execution_count": null,
   "id": "a14ff942",
   "metadata": {},
   "outputs": [],
   "source": [
    "ego4d['ego_val']['annotations'][0]"
   ]
  },
  {
   "cell_type": "code",
   "execution_count": null,
   "id": "11b3f2dc",
   "metadata": {},
   "outputs": [],
   "source": [
    "ego4d['ego_val']['metadata'][0]"
   ]
  },
  {
   "cell_type": "code",
   "execution_count": null,
   "id": "6c19e420",
   "metadata": {},
   "outputs": [],
   "source": [
    "ego4d['ego_val']['descriptions'][0]"
   ]
  },
  {
   "cell_type": "code",
   "execution_count": null,
   "id": "7ac1c966",
   "metadata": {},
   "outputs": [],
   "source": []
  }
 ],
 "metadata": {
  "kernelspec": {
   "display_name": "Python 3 (ipykernel)",
   "language": "python",
   "name": "python3"
  },
  "language_info": {
   "codemirror_mode": {
    "name": "ipython",
    "version": 3
   },
   "file_extension": ".py",
   "mimetype": "text/x-python",
   "name": "python",
   "nbconvert_exporter": "python",
   "pygments_lexer": "ipython3",
   "version": "3.9.16"
  }
 },
 "nbformat": 4,
 "nbformat_minor": 5
}
