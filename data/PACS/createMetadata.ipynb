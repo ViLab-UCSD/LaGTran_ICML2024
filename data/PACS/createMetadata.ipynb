{
 "cells": [
  {
   "cell_type": "code",
   "execution_count": 1,
   "id": "2441de49",
   "metadata": {},
   "outputs": [],
   "source": [
    "import json\n",
    "import pandas as pd\n",
    "import urllib.parse\n",
    "import os\n",
    "import hashlib\n",
    "import random\n",
    "from collections import defaultdict"
   ]
  },
  {
   "cell_type": "code",
   "execution_count": 2,
   "id": "5bcc8f67",
   "metadata": {},
   "outputs": [],
   "source": [
    "def short_hash(input_string, len_hash=12):\n",
    "    hash_hex = hashlib.md5(input_string.encode()).hexdigest()[:len_hash]\n",
    "    return int(hash_hex, 16)"
   ]
  },
  {
   "cell_type": "markdown",
   "id": "0a8e0657",
   "metadata": {},
   "source": [
    "## do for each domain"
   ]
  },
  {
   "cell_type": "code",
   "execution_count": 21,
   "id": "7b0be88b",
   "metadata": {},
   "outputs": [],
   "source": [
    "json_data = {}"
   ]
  },
  {
   "cell_type": "markdown",
   "id": "6aeb4727",
   "metadata": {},
   "source": [
    "## categories"
   ]
  },
  {
   "cell_type": "code",
   "execution_count": 22,
   "id": "e94928e0",
   "metadata": {},
   "outputs": [],
   "source": [
    "## get the category ids first.\n",
    "\n",
    "id_to_classname = {}\n",
    "with open(\"photo_crossval_kfold.txt\") as fh:\n",
    "    for l in fh.readlines():\n",
    "        file_path, label = l.strip().split()\n",
    "        classname = file_path.split(\"/\")[1]\n",
    "        id_to_classname[int(label)-1] = classname\n",
    "classname_to_id = {v:k for k,v in id_to_classname.items()}"
   ]
  },
  {
   "cell_type": "code",
   "execution_count": 23,
   "id": "e8b9fa46",
   "metadata": {},
   "outputs": [
    {
     "data": {
      "text/plain": [
       "{'dog': 0,\n",
       " 'elephant': 1,\n",
       " 'giraffe': 2,\n",
       " 'guitar': 3,\n",
       " 'horse': 4,\n",
       " 'house': 5,\n",
       " 'person': 6}"
      ]
     },
     "execution_count": 23,
     "metadata": {},
     "output_type": "execute_result"
    }
   ],
   "source": [
    "classname_to_id"
   ]
  },
  {
   "cell_type": "code",
   "execution_count": 24,
   "id": "3c5578fd",
   "metadata": {},
   "outputs": [],
   "source": [
    "categories = [{\"category_name\":cname,  \"category_id\":idx} for idx, cname in id_to_classname.items()]\n",
    "json_data['categories'] = categories"
   ]
  },
  {
   "cell_type": "code",
   "execution_count": 27,
   "id": "132dc10f",
   "metadata": {},
   "outputs": [
    {
     "name": "stdout",
     "output_type": "stream",
     "text": [
      "Creating for art/train\n",
      "art_painting_train_kfold.txt\n",
      "Creating for art/val\n",
      "art_painting_crossval_kfold.txt\n",
      "Creating for cartoon/train\n",
      "cartoon_train_kfold.txt\n",
      "Creating for cartoon/val\n",
      "cartoon_crossval_kfold.txt\n",
      "Creating for sketch/train\n",
      "sketch_train_kfold.txt\n",
      "Creating for sketch/val\n",
      "sketch_crossval_kfold.txt\n",
      "Creating for photo/train\n",
      "photo_train_kfold.txt\n",
      "Creating for photo/val\n",
      "photo_crossval_kfold.txt\n"
     ]
    }
   ],
   "source": [
    "\n",
    "for domain in [\"art\", \"cartoon\", \"sketch\", \"photo\"]:\n",
    "    for split in [\"train\", \"val\"]:\n",
    "        print(\"Creating for {}/{}\".format(domain, split))\n",
    "        fid_to_filename = {}\n",
    "        fid_to_label = {}\n",
    "        fid_to_category = {}\n",
    "        \n",
    "        extra_str = \"_painting\" if domain == \"art\" else \"\"\n",
    "        split_file = \"cross{}\".format(split) if split == \"val\" else split\n",
    "        \n",
    "        file_name = \"{}_{}_kfold.txt\".format(domain+extra_str, split_file)\n",
    "        print(file_name)\n",
    "        with open(file_name) as fh:\n",
    "            for l in fh.readlines():\n",
    "                file_path, label = l.strip().split()\n",
    "                label = int(label) - 1\n",
    "\n",
    "#                 file_name = file_path.split(\"/\")[-1].split(\".\")[0]\n",
    "                fid = short_hash(file_path)\n",
    "                fid_to_filename[fid] = file_path\n",
    "                fid_to_label[fid] = label\n",
    "                fid_to_category[fid] = id_to_classname[label]\n",
    "\n",
    "        all_ids = list(fid_to_category.keys())\n",
    "\n",
    "        ## images\n",
    "\n",
    "        images = []\n",
    "\n",
    "        for fid in all_ids:\n",
    "            images.append({\n",
    "                \"filename\" : fid_to_filename[fid],\n",
    "                \"id\"       : int(fid),\n",
    "            })\n",
    "\n",
    "        ## annotations\n",
    "\n",
    "        anns = []\n",
    "\n",
    "        for fid in all_ids:\n",
    "\n",
    "            anns.append({\n",
    "                \"image_id\" : int(fid),\n",
    "                \"category\" : fid_to_label[fid],\n",
    "                'class_name' : fid_to_category[fid]\n",
    "            })\n",
    "\n",
    "        ## metadata\n",
    "\n",
    "        meta = []\n",
    "\n",
    "        for fid in all_ids:\n",
    "            fid = int(fid)\n",
    "            fname = fid_to_filename[fid]\n",
    "            file_tag = fname#.split(\"/\")[-1].split(\".\")[0]\n",
    "\n",
    "            meta.append({\n",
    "                'image_id' : fid,\n",
    "                'file_tag' : file_tag\n",
    "            })\n",
    "\n",
    "        \n",
    "        split = \"test\" if split == \"val\" else split\n",
    "        json_data[\"{}_{}\".format(domain, split)] = {\n",
    "            \"images\" : images,\n",
    "            \"annotations\" : anns,\n",
    "            \"metadata\"    : meta\n",
    "        }"
   ]
  },
  {
   "cell_type": "code",
   "execution_count": 28,
   "id": "799609ce",
   "metadata": {},
   "outputs": [
    {
     "name": "stdout",
     "output_type": "stream",
     "text": [
      "art_train 1840\n",
      "art_test 208\n",
      "cartoon_train 2107\n",
      "cartoon_test 237\n",
      "sketch_train 3531\n",
      "sketch_test 398\n",
      "photo_train 1499\n",
      "photo_test 171\n"
     ]
    }
   ],
   "source": [
    "for k in json_data.keys():\n",
    "    if k != \"categories\":\n",
    "        print(k, len(json_data[k]['images']))"
   ]
  },
  {
   "cell_type": "code",
   "execution_count": 29,
   "id": "a579aa1b",
   "metadata": {},
   "outputs": [
    {
     "data": {
      "text/plain": [
       "{'image_id': 166792350274328, 'file_tag': 'photo/house/pic_205.jpg'}"
      ]
     },
     "execution_count": 29,
     "metadata": {},
     "output_type": "execute_result"
    }
   ],
   "source": [
    "json_data['photo_train']['metadata'][1000]"
   ]
  },
  {
   "cell_type": "code",
   "execution_count": 30,
   "id": "3187e6c8",
   "metadata": {},
   "outputs": [],
   "source": [
    "with open(\"../../metadata/pacs.json\", \"w\") as fh:\n",
    "    json.dump(json_data, fh, indent=4)"
   ]
  },
  {
   "cell_type": "markdown",
   "id": "1489be08",
   "metadata": {},
   "source": [
    "## check"
   ]
  },
  {
   "cell_type": "code",
   "execution_count": null,
   "id": "2b2c0c91",
   "metadata": {},
   "outputs": [],
   "source": [
    "import json\n",
    "import os"
   ]
  },
  {
   "cell_type": "code",
   "execution_count": null,
   "id": "6c8f9bb1",
   "metadata": {},
   "outputs": [],
   "source": [
    "data = json.load(open(\"../../metadata/visda2017.json\"))"
   ]
  },
  {
   "cell_type": "code",
   "execution_count": null,
   "id": "238d4079",
   "metadata": {},
   "outputs": [],
   "source": [
    "data.keys()"
   ]
  },
  {
   "cell_type": "code",
   "execution_count": null,
   "id": "694d9eb4",
   "metadata": {},
   "outputs": [],
   "source": [
    "data['syn_train'][\"annotations\"]"
   ]
  },
  {
   "cell_type": "code",
   "execution_count": null,
   "id": "4beffc46",
   "metadata": {},
   "outputs": [],
   "source": []
  }
 ],
 "metadata": {
  "kernelspec": {
   "display_name": "Python 3 (ipykernel)",
   "language": "python",
   "name": "python3"
  },
  "language_info": {
   "codemirror_mode": {
    "name": "ipython",
    "version": 3
   },
   "file_extension": ".py",
   "mimetype": "text/x-python",
   "name": "python",
   "nbconvert_exporter": "python",
   "pygments_lexer": "ipython3",
   "version": "3.9.16"
  }
 },
 "nbformat": 4,
 "nbformat_minor": 5
}
