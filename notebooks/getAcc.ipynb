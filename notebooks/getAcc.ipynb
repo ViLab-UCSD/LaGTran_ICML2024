{
 "cells": [
  {
   "cell_type": "code",
   "execution_count": 37,
   "metadata": {},
   "outputs": [],
   "source": [
    "import os\n",
    "import numpy as np\n",
    "import pandas as pd\n",
    "import glob\n",
    "import sys"
   ]
  },
  {
   "cell_type": "code",
   "execution_count": 47,
   "metadata": {},
   "outputs": [
    {
     "name": "stdout",
     "output_type": "stream",
     "text": [
      "'rc' 'cs' 'pr' 'sp' "
     ]
    }
   ],
   "source": [
    "domains = [\"real\" , \"clipart\" , \"painting\" , \"sketch\"]\n",
    "# domains = [\"art\" , \"clipart\" , \"product\" , \"real\"]\n",
    "folder = []\n",
    "for d1 in domains:\n",
    "    for d2 in domains:\n",
    "        if d1 != d2:\n",
    "            foldername = os.path.join(\"runs/ldam_cdan/DomainNet/\" , \"cross_entropy_{}_{}_CBS_0_srcimb_1_tgtimb_0_01_cdan_1\".format(d1,d2))\n",
    "            if os.path.exists(foldername):\n",
    "                print(\"\\'%s%s\\'\"%(d1[0],d2[0]) , end=\" \")\n",
    "                cmd = \"cat {fn}/run*.log | grep 'Best Acc' > {fn}/best.txt\".format(fn=foldername) \n",
    "                os.system(cmd)\n",
    "                folder.append(os.path.join(foldername, \"best.txt\"))"
   ]
  },
  {
   "cell_type": "code",
   "execution_count": 48,
   "metadata": {
    "scrolled": false
   },
   "outputs": [
    {
     "name": "stdout",
     "output_type": "stream",
     "text": [
      "Source:\n",
      "78.19 , 70.21 , 57.03 , 65.27 , 67.67\n"
     ]
    }
   ],
   "source": [
    "print(\"Source:\")\n",
    "vals = []\n",
    "for f in folder:\n",
    "    try:\n",
    "        df = pd.read_csv(f, sep=\"\\s\" , skiprows=1, header=None, engine='python')\n",
    "        vals.append(df.iloc[-1,-5])\n",
    "    except:\n",
    "#         f=  f.replace(\"lambda_0-1\" , \"lambda_0-1_ent_0-\")\n",
    "#         df = pd.read_csv(f, sep=\":\" , skiprows=1, header=None, engine='python')\n",
    "        vals.append(0)\n",
    "    \n",
    "for i,v in enumerate(vals):\n",
    "    print(np.round(v , 2) , end = \" , \")\n",
    "#     if (i+1)%3 == 0:\n",
    "#         print(\"&\" , end = \"\")\n",
    "print(np.round(np.mean(vals), 2))"
   ]
  },
  {
   "cell_type": "code",
   "execution_count": 49,
   "metadata": {},
   "outputs": [
    {
     "name": "stdout",
     "output_type": "stream",
     "text": [
      "Target:\n",
      "50.56 , 43.78 , 56.05 , 42.97 , 48.34\n"
     ]
    }
   ],
   "source": [
    "print(\"Target:\")\n",
    "vals = []\n",
    "for f in folder:\n",
    "    try:\n",
    "        df = pd.read_csv(f, sep=\"\\s\" , skiprows=1, header=None, engine='python')\n",
    "        vals.append(df.iloc[-1,-1])\n",
    "    except:\n",
    "#         f=  f.replace(\"lambda_0-1\" , \"lambda_0-1_ent_0-\")\n",
    "#         df = pd.read_csv(f, sep=\":\" , skiprows=1, header=None, engine='python')\n",
    "        vals.append(0)\n",
    "    \n",
    "for i,v in enumerate(vals):\n",
    "    print(np.round(v , 2) , end = \" , \")\n",
    "#     if (i+1)%3 == 0:\n",
    "#         print(\"&\" , end = \"\")\n",
    "print(np.round(np.mean(vals), 2))"
   ]
  },
  {
   "cell_type": "code",
   "execution_count": null,
   "metadata": {},
   "outputs": [],
   "source": []
  }
 ],
 "metadata": {
  "kernelspec": {
   "display_name": "Python 3",
   "language": "python",
   "name": "python3"
  },
  "language_info": {
   "codemirror_mode": {
    "name": "ipython",
    "version": 3
   },
   "file_extension": ".py",
   "mimetype": "text/x-python",
   "name": "python",
   "nbconvert_exporter": "python",
   "pygments_lexer": "ipython3",
   "version": "3.6.9"
  }
 },
 "nbformat": 4,
 "nbformat_minor": 4
}
